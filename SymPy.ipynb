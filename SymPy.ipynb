{
  "nbformat": 4,
  "nbformat_minor": 0,
  "metadata": {
    "colab": {
      "private_outputs": true,
      "provenance": [],
      "toc_visible": true,
      "authorship_tag": "ABX9TyMg7fci9ZvseSlfuUVYjWJM",
      "include_colab_link": true
    },
    "kernelspec": {
      "name": "python3",
      "display_name": "Python 3"
    },
    "language_info": {
      "name": "python"
    }
  },
  "cells": [
    {
      "cell_type": "markdown",
      "metadata": {
        "id": "view-in-github",
        "colab_type": "text"
      },
      "source": [
        "<a href=\"https://colab.research.google.com/github/786aafreen/Colab-Notebooks/blob/main/SymPy.ipynb\" target=\"_parent\"><img src=\"https://colab.research.google.com/assets/colab-badge.svg\" alt=\"Open In Colab\"/></a>"
      ]
    },
    {
      "cell_type": "code",
      "source": [
        "import sympy as sp\n",
        "import math\n",
        "\n",
        "\n"
      ],
      "metadata": {
        "id": "vq0gdgf8Fu3g"
      },
      "execution_count": null,
      "outputs": []
    },
    {
      "cell_type": "markdown",
      "source": [
        "Import symbolic math for python"
      ],
      "metadata": {
        "id": "ZJ1Owz64F92u"
      }
    },
    {
      "cell_type": "code",
      "source": [
        "sp.init_printing"
      ],
      "metadata": {
        "id": "TyzdVn2sFz_v"
      },
      "execution_count": null,
      "outputs": []
    },
    {
      "cell_type": "markdown",
      "source": [
        "set variables x,y, f,g and functions f and g\n"
      ],
      "metadata": {
        "id": "QEtDzl5T6G_g"
      }
    },
    {
      "cell_type": "code",
      "source": [
        "x = sp.symbols('x')\n",
        "y,z = sp.symbols('y,z')\n",
        "f = sp.Function('f')\n"
      ],
      "metadata": {
        "id": "FvaNA3wW5-xw"
      },
      "execution_count": null,
      "outputs": []
    },
    {
      "cell_type": "code",
      "source": [
        "g = x**2 + y**2 + z**2"
      ],
      "metadata": {
        "id": "FD7fuqmm6ydo"
      },
      "execution_count": null,
      "outputs": []
    },
    {
      "cell_type": "code",
      "source": [
        "g"
      ],
      "metadata": {
        "id": "23FMFIlK8WcO"
      },
      "execution_count": null,
      "outputs": []
    },
    {
      "cell_type": "code",
      "source": [
        "h = x**2 +2*x -5"
      ],
      "metadata": {
        "id": "e2BO-jjY7Zd5"
      },
      "execution_count": null,
      "outputs": []
    },
    {
      "cell_type": "code",
      "source": [
        "h"
      ],
      "metadata": {
        "id": "Q20hF7P_F6ff"
      },
      "execution_count": null,
      "outputs": []
    },
    {
      "cell_type": "markdown",
      "source": [
        "Evaluate the expression for x= 1.5, z for x"
      ],
      "metadata": {
        "id": "_S7PqefW78sK"
      }
    },
    {
      "cell_type": "code",
      "source": [
        "print(h.subs(x,1.5))"
      ],
      "metadata": {
        "id": "NOIcEMuT8FYV"
      },
      "execution_count": null,
      "outputs": []
    },
    {
      "cell_type": "code",
      "source": [
        "print(h.subs(x,z))"
      ],
      "metadata": {
        "id": "LBz9dmbd8K1Y"
      },
      "execution_count": null,
      "outputs": []
    },
    {
      "cell_type": "code",
      "source": [
        "print(h.subs(x,y**2))"
      ],
      "metadata": {
        "id": "JOlgUVBa8beG"
      },
      "execution_count": null,
      "outputs": []
    },
    {
      "cell_type": "markdown",
      "source": [
        "Q.2  (x**2 -x-6)/(x**2-3x)[link text](https://)"
      ],
      "metadata": {
        "id": "h7V2wdkq8ihe"
      }
    },
    {
      "cell_type": "code",
      "source": [
        "v = (x**2 -x -6)\n",
        "\n"
      ],
      "metadata": {
        "id": "-5pxEMYY-asQ"
      },
      "execution_count": null,
      "outputs": []
    },
    {
      "cell_type": "code",
      "source": [
        "u = (x**2 -x)"
      ],
      "metadata": {
        "id": "6v2zZg1l-28H"
      },
      "execution_count": null,
      "outputs": []
    },
    {
      "cell_type": "code",
      "source": [
        "f = (x**2 -x -6)/(x**2 - x)\n"
      ],
      "metadata": {
        "id": "PXhLvmqp8vzz"
      },
      "execution_count": null,
      "outputs": []
    },
    {
      "cell_type": "code",
      "source": [
        "sp.simplify(f)"
      ],
      "metadata": {
        "id": "N1c8Es499MZw"
      },
      "execution_count": null,
      "outputs": []
    },
    {
      "cell_type": "markdown",
      "source": [
        "Q.3  Expand following expressions symbolically"
      ],
      "metadata": {
        "id": "sgsW5A8k_c9U"
      }
    },
    {
      "cell_type": "code",
      "source": [
        "f =( (x+1)**3) * (x-2)**2"
      ],
      "metadata": {
        "id": "i7A6kf_D9-JM"
      },
      "execution_count": null,
      "outputs": []
    },
    {
      "cell_type": "code",
      "source": [
        "sp.expand(f)"
      ],
      "metadata": {
        "id": "Y-82nPBQ_wMD"
      },
      "execution_count": null,
      "outputs": []
    },
    {
      "cell_type": "markdown",
      "source": [
        "Q.4 Factor the following"
      ],
      "metadata": {
        "id": "T9807nKzAFzc"
      }
    },
    {
      "cell_type": "code",
      "source": [
        "f = (3*x**4) - (36*x**3) + (99*x**2)\n",
        "sp.factor(f)"
      ],
      "metadata": {
        "id": "sDQAPEDDAJ99"
      },
      "execution_count": null,
      "outputs": []
    },
    {
      "cell_type": "code",
      "source": [
        "print(sp.factor(f))"
      ],
      "metadata": {
        "id": "gJWGMiq8AijG"
      },
      "execution_count": null,
      "outputs": []
    },
    {
      "cell_type": "markdown",
      "source": [
        "Q.5 Differential d/dx(sin**2(x)*e**2*x)"
      ],
      "metadata": {
        "id": "wc_eI6LRBEwU"
      }
    },
    {
      "cell_type": "code",
      "source": [
        "y = sp.sin(x)**2 * sp.exp(2*x)"
      ],
      "metadata": {
        "id": "ENCwIVV6AxT7"
      },
      "execution_count": null,
      "outputs": []
    },
    {
      "cell_type": "code",
      "source": [
        "y"
      ],
      "metadata": {
        "id": "-cf9VhuWBK9e"
      },
      "execution_count": null,
      "outputs": []
    },
    {
      "cell_type": "markdown",
      "source": [
        "Q.6 Differential"
      ],
      "metadata": {
        "id": "AUhjrsrXCTfK"
      }
    },
    {
      "cell_type": "code",
      "source": [
        "z = sp.diff(y,x)\n",
        "z"
      ],
      "metadata": {
        "id": "4MviIgHHA_Tr"
      },
      "execution_count": null,
      "outputs": []
    },
    {
      "cell_type": "code",
      "source": [
        "z.subs(x,3.3)\n"
      ],
      "metadata": {
        "id": "Et2txhFOB1ny"
      },
      "execution_count": null,
      "outputs": []
    },
    {
      "cell_type": "markdown",
      "source": [
        "Q.7 Integration"
      ],
      "metadata": {
        "id": "98aRGc2SCXz7"
      }
    },
    {
      "cell_type": "code",
      "source": [
        "f = x**2 * sp.sin(x**2)\n",
        "f"
      ],
      "metadata": {
        "id": "WDhK7qV7CRCb"
      },
      "execution_count": null,
      "outputs": []
    },
    {
      "cell_type": "code",
      "source": [
        "g = sp.integrate(f,(x, 0,5))\n",
        "g"
      ],
      "metadata": {
        "id": "Eai_LT96DIzd"
      },
      "execution_count": null,
      "outputs": []
    },
    {
      "cell_type": "markdown",
      "source": [],
      "metadata": {
        "id": "2RatfWO1DmzK"
      }
    },
    {
      "cell_type": "code",
      "source": [
        "print(g)"
      ],
      "metadata": {
        "id": "0kYy67RhDRnc"
      },
      "execution_count": null,
      "outputs": []
    },
    {
      "cell_type": "code",
      "source": [
        "g.evalf()"
      ],
      "metadata": {
        "id": "A0gQ3rRXDVXS"
      },
      "execution_count": null,
      "outputs": []
    },
    {
      "cell_type": "markdown",
      "source": [
        "Q.8 From SCIPY optimize import minimize"
      ],
      "metadata": {
        "id": "Vswy6TAIDnsE"
      }
    },
    {
      "cell_type": "code",
      "source": [
        "from scipy.optimize import minimize"
      ],
      "metadata": {
        "id": "Lptrr0iWDu5T"
      },
      "execution_count": null,
      "outputs": []
    },
    {
      "cell_type": "markdown",
      "source": [
        "minimize   f(x) = (x-3)"
      ],
      "metadata": {
        "id": "9rnZIVeMEAXs"
      }
    },
    {
      "cell_type": "code",
      "source": [
        "def f(x):\n",
        "  return (x-3)**2\n",
        "\n",
        "\n"
      ],
      "metadata": {
        "id": "4pJ5-KQED01U"
      },
      "execution_count": null,
      "outputs": []
    },
    {
      "cell_type": "code",
      "source": [
        "res = minimize(f,2)\n",
        "res"
      ],
      "metadata": {
        "id": "xe7LN28pEVZB"
      },
      "execution_count": null,
      "outputs": []
    }
  ]
}